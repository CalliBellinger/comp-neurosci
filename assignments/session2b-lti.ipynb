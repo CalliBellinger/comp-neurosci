{
 "metadata": {
  "name": "",
  "signature": "sha256:a811b4e65a66ddbbe63622f12697f4f51b93fd48015ff2ae3678577e5e61151d"
 },
 "nbformat": 3,
 "nbformat_minor": 0,
 "worksheets": [
  {
   "cells": [
    {
     "cell_type": "markdown",
     "metadata": {},
     "source": [
      "# Problem Set 2\n",
      "\n",
      "Run this cell to set up plotting:"
     ]
    },
    {
     "cell_type": "code",
     "collapsed": false,
     "input": [
      "%matplotlib inline\n",
      "import matplotlib.pyplot as plt\n",
      "import numpy as np"
     ],
     "language": "python",
     "metadata": {},
     "outputs": []
    },
    {
     "cell_type": "markdown",
     "metadata": {},
     "source": [
      "We will investigate the properties of two different filters (impulse response functions):\n",
      "\n",
      "\\begin{align}\n",
      "k_1(t) & = \\begin{cases}\n",
      "0 & \\mbox{if } t < 0 \\\\\n",
      "\\frac{t}{\\tau_1^2} e^{(-t/\\tau_1)} & \\mbox{if } t \\geq 0 \\end{cases} \\\\\n",
      "k_2(t) & = \\begin{cases}\n",
      "0 & \\mbox{if } t < 0 \\\\\n",
      "\\frac{t}{\\tau_1^2} e^{(-t/\\tau_1)} - \\frac{t}{\\tau_2^2} e^{(-t/\\tau_2)} & \\mbox{if } t \\geq 0\n",
      "\\end{cases}\n",
      "\\end{align}\n",
      "\n",
      "For both filters, $\\tau_1 = 50$ ms and $\\tau_2 = 100$ ms.\n"
     ]
    },
    {
     "cell_type": "markdown",
     "metadata": {},
     "source": [
      "**1.** Plot $k_1(t)$ and $k_2(t)$ for $0 < t < 1000$ ms. A bin size of 1 ms is good."
     ]
    },
    {
     "cell_type": "code",
     "collapsed": false,
     "input": [],
     "language": "python",
     "metadata": {},
     "outputs": []
    },
    {
     "cell_type": "markdown",
     "metadata": {},
     "source": [
      "**2.** Generate three input signals:\n",
      "\n",
      "\\begin{align}\n",
      "s_1(t) & = \\sin(2 \\pi \\omega_1 t) \\\\\n",
      "s_2(t) & = \\sin(2 \\pi \\omega_2 t) \\\\\n",
      "s_3(t) & \\sim N(0,1)\n",
      "\\end{align}\n",
      "\n",
      "Let $\\omega_1 = 0.3$ Hz and $\\omega_2 = 3$ Hz. For $s_3$, $N$ means that the samples are drawn from a normal distribution with mean 0 and standard deviation 1 (hint: use `np.random.randn()`)\n",
      "\n",
      "Use a bin size of 1 ms and plot about 10 s of data for each signal."
     ]
    },
    {
     "cell_type": "code",
     "collapsed": false,
     "input": [],
     "language": "python",
     "metadata": {},
     "outputs": []
    },
    {
     "cell_type": "markdown",
     "metadata": {},
     "source": [
      "**3.** For $s_1$ and $s_2$, compute and plot the outputs using filter $k_1(t)$ and then filter $k_2(t)$ (hint: use `np.convolve`)"
     ]
    },
    {
     "cell_type": "code",
     "collapsed": false,
     "input": [],
     "language": "python",
     "metadata": {},
     "outputs": []
    },
    {
     "cell_type": "markdown",
     "metadata": {},
     "source": [
      "What do you notice about the response amplitudes? What differences do you see between the outputs of the two filters?"
     ]
    },
    {
     "cell_type": "markdown",
     "metadata": {},
     "source": []
    },
    {
     "cell_type": "markdown",
     "metadata": {},
     "source": [
      "**4.** Filter $s_3$ with both $k_1$ and $k_2$. Compute the power spectrum of $s_3(t)$, $(s_3 \\star k_1)(t)$ and $(s_3 \\star k_2)(t)$. Hint: use `np.fft.fft()` to calculate the Fourier transform and `np.abs()` to calculate the modulus of the output."
     ]
    },
    {
     "cell_type": "code",
     "collapsed": false,
     "input": [],
     "language": "python",
     "metadata": {},
     "outputs": []
    },
    {
     "cell_type": "markdown",
     "metadata": {},
     "source": [
      "What do you notice about the spectra? Do they seem noisy? You can get a better estimate of the power spectrum by generating a much longer $s_3(t)$ (say around 1000 s), dividing it into 10 s segments, and averaging the power spectra from each segment."
     ]
    },
    {
     "cell_type": "code",
     "collapsed": false,
     "input": [],
     "language": "python",
     "metadata": {},
     "outputs": []
    },
    {
     "cell_type": "markdown",
     "metadata": {},
     "source": [
      "**5.** Compute the cross correlation (`np.correlate()`) between $s_3(t)$ and $(s_3 \\star k_1)(t)$, and between $s_3(t)$ and $(s_3 \\star k_2)(t)$. Try using 10 seconds of data and 100 seconds of data."
     ]
    },
    {
     "cell_type": "code",
     "collapsed": false,
     "input": [],
     "language": "python",
     "metadata": {},
     "outputs": []
    },
    {
     "cell_type": "markdown",
     "metadata": {},
     "source": [
      "What's the effect of the amount of data? Compare the results of the cross-correlation with the filters you used to generate the response. What does this suggest about the relationship between convolution and cross-correlation?"
     ]
    },
    {
     "cell_type": "markdown",
     "metadata": {},
     "source": []
    }
   ],
   "metadata": {}
  }
 ]
}