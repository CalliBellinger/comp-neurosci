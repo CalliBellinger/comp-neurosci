{
 "cells": [
  {
   "cell_type": "markdown",
   "metadata": {},
   "source": [
    "## Problem Set 3\n",
    "\n",
    "Problem 1 is a short analytical analysis. Problem 2 is a programming problem."
   ]
  },
  {
   "cell_type": "markdown",
   "metadata": {},
   "source": [
    "### Problem 1\n",
    "\n",
    "Assume that you have an LTI system with a short memory. The response depends only on the stimulus at the current time point and one time point in the past.\n",
    "\n",
    "$\\hat{r}(t) = h_0 s(t-0) + h_1 s(t-1)$\n",
    "\n",
    "You have data for $s(t)$ and $r(t)$ for a set of time points $t = {0, 1, \\ldots, T}$, and you can calculate time-averaged values such as $<s(t)>_t$. By minimizing the mean square error between the predicted and actual rate, derive the set of equations that you will need to solve to find $h_0$ and $h_1$. Here are a few hints to get you started:\n",
    "\n",
    "$E = (\\hat{r}(t) - r(t))^2$\n",
    "\n",
    "To minimize E, set the derivatives of E with respect to $h_0$ and $h_1$ to zero:\n",
    "\n",
    "\\begin{align}\n",
    "\\frac{\\partial E}{\\partial h_0} &= 0 \\\\ \n",
    "\\frac{\\partial E}{\\partial h_1} &= 0\n",
    "\\end{align}\n",
    "\n",
    "Remember that $\\frac{d}{dx} u^2 = 2 u \\frac{du}{dx}$\n",
    "\n",
    "You should be able to write the system of equations you derive in matrix format as\n",
    "\n",
    "$\\mathbf{C}_{ss}\\vec{h} = \\vec{C}_{sr}$\n",
    "\n",
    "What are $\\mathbf{C}_{ss}$ and $\\vec{C}_{sr}$? How would you calculate them in numpy?"
   ]
  },
  {
   "cell_type": "markdown",
   "metadata": {
    "collapsed": true
   },
   "source": [
    "### Problem 2\n",
    "\n",
    "In this problem you will estimate a filter response from non-white stimuli. We will use the same two filters from the last problem set:\n",
    "\n",
    "\\begin{align}\n",
    "k_1(t) & = \\begin{cases}\n",
    "0 & \\mbox{if } t < 0 \\\\\n",
    "\\frac{t}{\\tau_1^2} e^{(-t/\\tau_1)} & \\mbox{if } t \\geq 0 \\end{cases} \\\\\n",
    "k_2(t) & = \\begin{cases}\n",
    "0 & \\mbox{if } t < 0 \\\\\n",
    "\\frac{t}{\\tau_1^2} e^{(-t/\\tau_1)} - \\frac{t}{\\tau_2^2} e^{(-t/\\tau_2)} & \\mbox{if } t \\geq 0\n",
    "\\end{cases}\n",
    "\\end{align}\n",
    "\n",
    "For both filters, $\\tau_1 = 50$ ms and $\\tau_2 = 100$ ms."
   ]
  },
  {
   "cell_type": "markdown",
   "metadata": {},
   "source": [
    "**1.** Plot $k_1(t)$ and $k_2(t)$ for $0 < t < 1000$ ms with a bin size of 1 ms."
   ]
  },
  {
   "cell_type": "code",
   "execution_count": null,
   "metadata": {
    "collapsed": true
   },
   "outputs": [],
   "source": []
  },
  {
   "cell_type": "markdown",
   "metadata": {},
   "source": [
    "**2.** Your starting point will be a stimulus $s_1(t)$ which is a Gaussian white noise signal 4 s in length (use `numpy.random.randn`). What is the bandwidth of this signal?"
   ]
  },
  {
   "cell_type": "code",
   "execution_count": null,
   "metadata": {
    "collapsed": true
   },
   "outputs": [],
   "source": []
  },
  {
   "cell_type": "markdown",
   "metadata": {},
   "source": [
    "**3.** Unfortunately, your neuron responds only weakly to this broadband signal. You decide to filter the signal using $k_1(t)$ to obtain a new signal $s_2(t)$. What is the bandwidth of this signal?"
   ]
  },
  {
   "cell_type": "code",
   "execution_count": null,
   "metadata": {
    "collapsed": true
   },
   "outputs": [],
   "source": []
  },
  {
   "cell_type": "markdown",
   "metadata": {},
   "source": [
    "**4.** $s_2(t)$ is used as a stimulus for a cell that has an impulse response given by $k_2(t)$. You can obtain \"responses\" for that cell, $r(t)$, by convolving $s_2$ with $k_2$.\n",
    "\n",
    "Compute the power spectrum of $s_2(t)$, $r(t)$"
   ]
  },
  {
   "cell_type": "code",
   "execution_count": null,
   "metadata": {
    "collapsed": true
   },
   "outputs": [],
   "source": []
  }
 ],
 "metadata": {
  "kernelspec": {
   "display_name": "Python 2",
   "language": "python",
   "name": "python2"
  },
  "language_info": {
   "codemirror_mode": {
    "name": "ipython",
    "version": 2
   },
   "file_extension": ".py",
   "mimetype": "text/x-python",
   "name": "python",
   "nbconvert_exporter": "python",
   "pygments_lexer": "ipython2",
   "version": "2.7.9"
  }
 },
 "nbformat": 4,
 "nbformat_minor": 0
}
