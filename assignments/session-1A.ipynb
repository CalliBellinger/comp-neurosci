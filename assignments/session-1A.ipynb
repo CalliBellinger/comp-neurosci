{
 "metadata": {
  "name": "",
  "signature": "sha256:bc74d381d6f887318baedbdc38178e44fe17b8a4e025e8dece42dc4221f35e12"
 },
 "nbformat": 3,
 "nbformat_minor": 0,
 "worksheets": [
  {
   "cells": [
    {
     "cell_type": "markdown",
     "metadata": {},
     "source": [
      "# Problem Set 1A (Python Exercises)\n",
      "\n",
      "If you gotten this far, you have ipython notebook set up - congratulations!  To work on this assignment, I suggest creating a copy of the notebook so you can make changes to your hearts' content. Later we'll discuss how to use git to create branches.\n",
      "\n",
      "These are some exercises to help you get started using Python. Feel free to skip ahead to Problem Set 1B if you are already familiar with this material.  You should go through either the first 6 Software Carpentry Lessons or the first day of the Google Python Course first.\n",
      "\n",
      "## Resources\n",
      "\n",
      "- [Software Carpentry](http://software-carpentry.org/4_0/python/)\n",
      "- [Google's Python Class](https://developers.google.com/edu/python/)\n",
      "- [The official Python tutorial](http://docs.python.org/tutorial/)\n",
      "- [MIT's A Gentle Introduction to Programming](http://ocw.mit.edu/courses/electrical-engineering-and-computer-science/6-189-a-gentle-introduction-to-programming-using-python-january-iap-2008/)\n",
      "- [How to think like a Computer Scientist](http://openbookproject.net/thinkcs/python/english2e/index.html)\n",
      "- [Dive Into Python](http://www.diveintopython.net/)\n",
      "\n",
      "### References\n",
      "\n",
      "- [IPython Notebook docs](http://ipython.org/ipython-doc/stable/notebook/notebook.html)\n",
      "- [Matplotlib](http://matplotlib.org/) - used for plotting in the notebook\n",
      "- [Numpy](http://www.numpy.org/) - numerical functions"
     ]
    },
    {
     "cell_type": "markdown",
     "metadata": {},
     "source": [
      "## Survey\n",
      "\n",
      "What is your python setup? What OS are you using? What steps did you take to install a scipy stack? Did you run into any issues?"
     ]
    },
    {
     "cell_type": "markdown",
     "metadata": {},
     "source": []
    },
    {
     "cell_type": "markdown",
     "metadata": {},
     "source": [
      "\n",
      "## Lists and flow control\n",
      "\n",
      "Write three bits of code, each in a separate cell:\n",
      "- a while loop that creates a list containing every 3rd number starting at 2 and ending with the number N, but excluding those numbers that are divisible by 10. For example, if N is 21, then the list would contain 2, 5, 8, 11, 14, and 17. Put the list in a variable named \u2018triads\u2019.\n",
      "- a while loop that creates a list of prime numbers between 2 and N. Put the list in a variable named \u2018primes\u2019.\n",
      "- a for loop that creates a list of squared numbers from the odd numbers between 1 and N, and puts the list in a variable named \u2018oddsquared\u2019. For example, if N is 6, then the \u2018oddsquared\u2019 list would contain 1, 9, and 25 (1, 3, and 5, squared).\n",
      "\n",
      "In all three cases, \u2018N\u2019 should be something you can set arbitrarily, e.g. the code should work equally well for N=10 and N=100.\n"
     ]
    },
    {
     "cell_type": "code",
     "collapsed": false,
     "input": [],
     "language": "python",
     "metadata": {},
     "outputs": []
    },
    {
     "cell_type": "markdown",
     "metadata": {},
     "source": [
      "## String exercises\n",
      "\n",
      "Complete each of the following code blocks. Each is set up as a function that takes an argument and returns a value."
     ]
    },
    {
     "cell_type": "code",
     "collapsed": false,
     "input": [
      "# A. donuts\n",
      "# Given an int count of a number of donuts, return a string\n",
      "# of the form 'Number of donuts: <count>', where <count> is the number\n",
      "# passed in. However, if the count is 10 or more, then use the word 'many'\n",
      "# instead of the actual count.\n",
      "# So donuts(5) returns 'Number of donuts: 5'\n",
      "# and donuts(23) returns 'Number of donuts: many'\n",
      "def donuts(count):\n",
      "  # +++your code here+++\n",
      "  return\n"
     ],
     "language": "python",
     "metadata": {},
     "outputs": []
    },
    {
     "cell_type": "code",
     "collapsed": false,
     "input": [
      "# B. both_ends\n",
      "# Given a string s, return a string made of the first 2\n",
      "# and the last 2 chars of the original string,\n",
      "# so 'spring' yields 'spng'. However, if the string length\n",
      "# is less than 2, return instead the empty string.\n",
      "def both_ends(s):\n",
      "  # +++your code here+++\n",
      "  return\n"
     ],
     "language": "python",
     "metadata": {},
     "outputs": []
    },
    {
     "cell_type": "code",
     "collapsed": false,
     "input": [
      "# D. MixUp\n",
      "# Given strings a and b, return a single string with a and b separated\n",
      "# by a space '<a> <b>', except swap the first 2 chars of each string.\n",
      "# e.g.\n",
      "#   'mix', pod' -> 'pox mid'\n",
      "#   'dog', 'dinner' -> 'dig donner'\n",
      "# Assume a and b are length 2 or more.\n",
      "def mix_up(a, b):\n",
      "  # +++your code here+++\n",
      "  return\n"
     ],
     "language": "python",
     "metadata": {},
     "outputs": []
    },
    {
     "cell_type": "markdown",
     "metadata": {},
     "source": [
      "After you've completed the three exercises above and run the blocks, run the following code block."
     ]
    },
    {
     "cell_type": "code",
     "collapsed": false,
     "input": [
      "def test(got, expected):\n",
      "  if got == expected:\n",
      "    prefix = ' OK '\n",
      "  else:\n",
      "    prefix = '  X '\n",
      "  print '%s got: %s expected: %s' % (prefix, repr(got), repr(expected))\n",
      "\n",
      "\n",
      "# Provided main() calls the above functions with interesting inputs,\n",
      "# using test() to check if each result is correct or not.\n",
      "def main():\n",
      "  print 'donuts'\n",
      "  # Each line calls donuts, compares its result to the expected for that call.\n",
      "  test(donuts(4), 'Number of donuts: 4')\n",
      "  test(donuts(9), 'Number of donuts: 9')\n",
      "  test(donuts(10), 'Number of donuts: many')\n",
      "  test(donuts(99), 'Number of donuts: many')\n",
      "\n",
      "  print\n",
      "  print 'both_ends'\n",
      "  test(both_ends('spring'), 'spng')\n",
      "  test(both_ends('Hello'), 'Helo')\n",
      "  test(both_ends('a'), '')\n",
      "  test(both_ends('xyz'), 'xyyz')\n",
      "\n",
      "  \n",
      "  print\n",
      "  print 'fix_start'\n",
      "  test(fix_start('babble'), 'ba**le')\n",
      "  test(fix_start('aardvark'), 'a*rdv*rk')\n",
      "  test(fix_start('google'), 'goo*le')\n",
      "  test(fix_start('donut'), 'donut')\n",
      "\n",
      "  print\n",
      "  print 'mix_up'\n",
      "  test(mix_up('mix', 'pod'), 'pox mid')\n",
      "  test(mix_up('dog', 'dinner'), 'dig donner')\n",
      "  test(mix_up('gnash', 'sport'), 'spash gnort')\n",
      "  test(mix_up('pezzy', 'firm'), 'fizzy perm')\n"
     ],
     "language": "python",
     "metadata": {},
     "outputs": []
    },
    {
     "cell_type": "markdown",
     "metadata": {},
     "source": [
      "## Reading files and counting words\n",
      "\n",
      "Open the file \"moby.txt\" (in this directory) and print out a list of the 10 most frequent words and the 10 least frequent words. Each should be sorted alphabetically."
     ]
    },
    {
     "cell_type": "code",
     "collapsed": false,
     "input": [],
     "language": "python",
     "metadata": {},
     "outputs": []
    }
   ],
   "metadata": {}
  }
 ]
}