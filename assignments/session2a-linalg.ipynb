{
 "metadata": {
  "name": "",
  "signature": "sha256:c8b233a8f0a2f8203575623544f6fddddcd462bc1e69c16b8c3cd92e091d08d6"
 },
 "nbformat": 3,
 "nbformat_minor": 0,
 "worksheets": [
  {
   "cells": [
    {
     "cell_type": "markdown",
     "metadata": {},
     "source": [
      "## Linear algebra in numpy\n",
      "\n",
      "There are some differences in the way MATLAB and Numpy handle vectors and matrices. In MATLAB, everything is a matrix (a vector is just an n x 1 matrix). In numpy, everything is an array (a list of numbers) unless you say otherwise.\n",
      "\n",
      "A useful comparison of MATLAB and numpy/matplotlib:  <http://mathesaurus.sourceforge.net/matlab-numpy.html>\n",
      "\n",
      "As before, you'll need to import some modules first:"
     ]
    },
    {
     "cell_type": "code",
     "collapsed": false,
     "input": [
      "%matplotlib inline\n",
      "import matplotlib.pyplot as plt\n",
      "import numpy as np"
     ],
     "language": "python",
     "metadata": {},
     "outputs": []
    },
    {
     "cell_type": "markdown",
     "metadata": {},
     "source": [
      "### Creating scalars, arrays, vectors, and matrices"
     ]
    },
    {
     "cell_type": "code",
     "collapsed": false,
     "input": [
      "# a scalar\n",
      "a = 1.23\n",
      "# a row array (1 x n)\n",
      "b = np.array([1, 2, 3, 4, 5])\n",
      "# a column array (m x 1)\n",
      "bc = np.array([1, 2, 3, 4, 5])[:,np.newaxis]\n",
      "# easily create sequences\n",
      "c = np.arange(5)\n",
      "# an empty array\n",
      "d = np.zeros(6)\n",
      "\n",
      "# a 2D array (3 x 5)\n",
      "M = np.ones((3,5))"
     ],
     "language": "python",
     "metadata": {},
     "outputs": []
    },
    {
     "cell_type": "markdown",
     "metadata": {},
     "source": [
      "### Matrix math"
     ]
    },
    {
     "cell_type": "code",
     "collapsed": false,
     "input": [
      "# a scalar times a scalar\n",
      "a * 20"
     ],
     "language": "python",
     "metadata": {},
     "outputs": []
    },
    {
     "cell_type": "code",
     "collapsed": false,
     "input": [
      "# adding and multiplying scalars applies the operation to each element\n",
      "b + 10, b * 20"
     ],
     "language": "python",
     "metadata": {},
     "outputs": []
    },
    {
     "cell_type": "code",
     "collapsed": false,
     "input": [
      "# adding and multiplying arrays applies element-wise\n",
      "b + c"
     ],
     "language": "python",
     "metadata": {},
     "outputs": []
    },
    {
     "cell_type": "code",
     "collapsed": false,
     "input": [
      "# if dimensions don't match, you'll get an error\n",
      "b + d"
     ],
     "language": "python",
     "metadata": {},
     "outputs": []
    },
    {
     "cell_type": "code",
     "collapsed": false,
     "input": [
      "# numpy does broadcasting: multiplying or adding column to row arrays creates a matrix\n",
      "# this is a useful way to create a mesh of values\n",
      "b * bc"
     ],
     "language": "python",
     "metadata": {},
     "outputs": []
    },
    {
     "cell_type": "code",
     "collapsed": false,
     "input": [
      "# vector multiplication requires the dot() function\n",
      "np.dot(b, c)"
     ],
     "language": "python",
     "metadata": {},
     "outputs": []
    },
    {
     "cell_type": "markdown",
     "metadata": {},
     "source": [
      "#### Q1: What is the angle between *b* and *c*?"
     ]
    },
    {
     "cell_type": "code",
     "collapsed": false,
     "input": [],
     "language": "python",
     "metadata": {},
     "outputs": []
    },
    {
     "cell_type": "code",
     "collapsed": false,
     "input": [
      "# if you multiply a 1D array by a 2D array, you get broadcasting\n",
      "b * M"
     ],
     "language": "python",
     "metadata": {},
     "outputs": []
    },
    {
     "cell_type": "code",
     "collapsed": false,
     "input": [
      "# why doesn't this work?\n",
      "bc * M"
     ],
     "language": "python",
     "metadata": {},
     "outputs": []
    },
    {
     "cell_type": "code",
     "collapsed": false,
     "input": [
      "# to multiply a vector by a matrix, you need to use dot\n",
      "# remember, columns in first operand need to match elements in second\n",
      "np.dot(M, b)"
     ],
     "language": "python",
     "metadata": {},
     "outputs": []
    },
    {
     "cell_type": "code",
     "collapsed": false,
     "input": [
      "# Numpy will also let you multiply a matrix by a column vector, but the output will be a column vector\n",
      "np.dot(M, bc)"
     ],
     "language": "python",
     "metadata": {},
     "outputs": []
    },
    {
     "cell_type": "code",
     "collapsed": false,
     "input": [
      "# to do matrix multiplication, you need to use dot\n",
      "A = np.array([[1., 2],[3, 4],[5,6],[7,8]])\n",
      "B = np.array([[1., 2, 3],[4, 5, 6]])\n",
      "# A * B won't work!\n",
      "np.dot(A, B)"
     ],
     "language": "python",
     "metadata": {},
     "outputs": []
    },
    {
     "cell_type": "code",
     "collapsed": false,
     "input": [
      "# neither will this!\n",
      "np.dot(B, A)"
     ],
     "language": "python",
     "metadata": {},
     "outputs": []
    }
   ],
   "metadata": {}
  }
 ]
}