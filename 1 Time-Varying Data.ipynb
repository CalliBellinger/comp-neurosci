{
 "cells": [
  {
   "cell_type": "markdown",
   "metadata": {},
   "source": [
    "## 1 Time-Varying Data\n",
    "\n",
    "The goal of this exercise is to introduce students to using Python to manipulate and visualize time-varying data. We'll use an auditory neurophysiology experiment to illustrate the key concepts. In this experiment, recordings of bird songs are presented to an animal while we record from neurons in the auditory system.\n",
    "\n",
    "![experiment diagram](images/experiment_diagram.png \"Title\")\n",
    "\n",
    "Some of the cells are left blank or have placeholder text. Your assignment is to complete those cells. Download the notebook as an 'ipynb' file (see the `File/Download as` menu) and submit this for grading.\n",
    "\n",
    "### 1A Introduction to Python Notebooks\n",
    "\n",
    "Welcome! This web page is a Python notebook. It's a interactive document that lets you mix text and computer code, organized into `cells`. A cell can contain either text or code. This is a text cell. You can edit the contents of this cell by double-clicking, then save by typing `Ctrl-Enter`.\n",
    "\n",
    "The cell below this is a code cell, as indicated by `In [ ]:` off to the left. When you type `Ctrl-Enter` in a code cell, the contents are passed to the Python interpreter. Each line is evaluated in turn. If the last line generates some output, this will be shown below the code cell. To run the notebook, you need to type `Ctrl-Enter` in each cell (including the one below):"
   ]
  },
  {
   "cell_type": "code",
   "execution_count": 2,
   "metadata": {},
   "outputs": [
    {
     "data": {
      "text/plain": [
       "'Hello world'"
      ]
     },
     "execution_count": 2,
     "metadata": {},
     "output_type": "execute_result"
    }
   ],
   "source": [
    "# Python comments are marked by `#`\n",
    "\n",
    "# These lines of code import some external libraries we'll use in this exercise:\n",
    "%matplotlib inline\n",
    "import numpy as np\n",
    "import matplotlib.pyplot as plt\n",
    "\n",
    "# This is a Python string literal. It will evaluate to itself.\n",
    "\"Hello world\""
   ]
  },
  {
   "cell_type": "markdown",
   "metadata": {},
   "source": [
    "Take a look at the menus and buttons above. You can cut and paste cells with the `Edit` menu to move them around. You can execute one or more cells using the `Cell` menu. The Python interpreter is called a `kernel`. Under the `Kernel` menu, you can restart or interrupt the interpreter if it gets stuck. The `Help` menu explains more about using the notebook and has links to some of the main scientific programming libraries.\n",
    "\n",
    "If you're completely new to programming or to Python, you should go through the following exercises from [Software Carpentry](https://software-carpentry.org/). This should take you about 60-90 minutes. You can create new notebooks under `File/New Notebook` to work through them, or you can insert cells here.\n",
    "\n",
    "- [Running and Quitting Python](http://swcarpentry.github.io/python-novice-gapminder/01-run-quit/)\n",
    "- [Variables](http://swcarpentry.github.io/python-novice-gapminder/02-variables/)\n",
    "- [Data Types](http://swcarpentry.github.io/python-novice-gapminder/03-types-conversion/)\n",
    "- [Functions](http://swcarpentry.github.io/python-novice-gapminder/04-built-in/)\n",
    "- [Lists](http://swcarpentry.github.io/python-novice-gapminder/11-lists/)\n",
    "- [Loops](http://swcarpentry.github.io/python-novice-gapminder/12-for-loops/)"
   ]
  },
  {
   "cell_type": "markdown",
   "metadata": {},
   "source": [
    "---\n",
    "### 1B Working with Time Series and Point Process Data\n",
    "\n",
    "In neuroscience, much of the data we'll be working with is a representation of some process that changes in time. There are two fundamental ways of representing time-varying data in a computer:\n",
    "\n",
    "- A **time series** is a quantitative physical property of a system measured over a time interval. In digital computers, time series data are always sampled at discrete moments in time, usually at fixed intervals. The *sampling rate* of the data is the number of times per second the underlying process was measured. Examples of time series include sound waveforms and recordings of extracellular voltage.\n",
    "\n",
    "- A **point process** is a series of times when an event took place. An example of a point process is the set of times when a neuron produced an action potential (spike).\n",
    "\n",
    "Both point processes and time series are represented in Python in data structures called an `arrays`. We'll use a library called [numpy](http://www.numpy.org/) to store and manipulate arrays. Note that in the first code cell above, we imported the numpy library and gave it the alias `np`, so all the calls to numpy functions will be preceded by `np.`\n",
    "\n",
    "Here's an example of creating an array:"
   ]
  },
  {
   "cell_type": "code",
   "execution_count": 3,
   "metadata": {},
   "outputs": [],
   "source": [
    "arr = np.array([1.0, 1.2, 0.8, 1.0])"
   ]
  },
  {
   "cell_type": "markdown",
   "metadata": {},
   "source": [
    "As with lists, we can access specific elements or ranges of elements using indices:"
   ]
  },
  {
   "cell_type": "code",
   "execution_count": 4,
   "metadata": {},
   "outputs": [
    {
     "data": {
      "text/plain": [
       "1.0"
      ]
     },
     "execution_count": 4,
     "metadata": {},
     "output_type": "execute_result"
    }
   ],
   "source": [
    "arr[0]"
   ]
  },
  {
   "cell_type": "code",
   "execution_count": 5,
   "metadata": {},
   "outputs": [
    {
     "data": {
      "text/plain": [
       "array([0.8, 1. ])"
      ]
     },
     "execution_count": 5,
     "metadata": {},
     "output_type": "execute_result"
    }
   ],
   "source": [
    "arr[2:]"
   ]
  },
  {
   "cell_type": "markdown",
   "metadata": {},
   "source": [
    "You can do math operations on every element of the array with a single function call:"
   ]
  },
  {
   "cell_type": "code",
   "execution_count": 6,
   "metadata": {},
   "outputs": [
    {
     "data": {
      "text/plain": [
       "array([0.84147098, 0.93203909, 0.71735609, 0.84147098])"
      ]
     },
     "execution_count": 6,
     "metadata": {},
     "output_type": "execute_result"
    }
   ],
   "source": [
    "np.sin(arr)"
   ]
  },
  {
   "cell_type": "markdown",
   "metadata": {},
   "source": [
    "You can add a scalar to an array, or add two arrays of the same size."
   ]
  },
  {
   "cell_type": "code",
   "execution_count": 7,
   "metadata": {},
   "outputs": [
    {
     "data": {
      "text/plain": [
       "array([57. , 57.2, 56.8, 57. ])"
      ]
     },
     "execution_count": 7,
     "metadata": {},
     "output_type": "execute_result"
    }
   ],
   "source": [
    "56 + arr"
   ]
  },
  {
   "cell_type": "code",
   "execution_count": 8,
   "metadata": {},
   "outputs": [
    {
     "data": {
      "text/plain": [
       "array([3. , 3.6, 2.4, 3. ])"
      ]
     },
     "execution_count": 8,
     "metadata": {},
     "output_type": "execute_result"
    }
   ],
   "source": [
    "arr + (2 * arr)"
   ]
  },
  {
   "cell_type": "markdown",
   "metadata": {},
   "source": [
    "---\n",
    "## 1C Working with Acoustic Stimuli\n",
    "\n",
    "Sound consists of waves of pressure moving through the air or another medium. When these waves press against the eardrum, the bones (or bone, if you're a bird) in the middle ear transmit the wave to the fluid in the cochlea. Movements in this fluid are detected by hair cells, which transduce the sound into neural signals. Sound is recorded with a microphone, which transduces pressure changes into electrical voltage changes. These in turn can be sampled by a digitizer and turned into an array of numbers.\n",
    "\n",
    "Sound recordings can be stored in a variety of file formats. One of the most common is the `wave` format, which is what we'll be using here. The stimulus files used in this experiment have been placed in the `stimuli` directory. We can use the `os` module in Python to list the contents of this directory:"
   ]
  },
  {
   "cell_type": "code",
   "execution_count": 9,
   "metadata": {},
   "outputs": [
    {
     "data": {
      "text/plain": [
       "['motifs.csv',\n",
       " 'A2.wav',\n",
       " 'A0.wav',\n",
       " 'C8.wav',\n",
       " 'B8.wav',\n",
       " 'A6.wav',\n",
       " 'C2.wav',\n",
       " 'B6.wav',\n",
       " 'A8.wav',\n",
       " 'C0.wav',\n",
       " 'B0.wav',\n",
       " 'B2.wav',\n",
       " 'C6.wav']"
      ]
     },
     "execution_count": 9,
     "metadata": {},
     "output_type": "execute_result"
    }
   ],
   "source": [
    "import os\n",
    "os.listdir('stimuli')"
   ]
  },
  {
   "cell_type": "markdown",
   "metadata": {},
   "source": [
    "Let's see what the contents of `A0.wav` look like. We'll use a python package called `ewave` to load the file. The `ewave.open` function returns an object that we can use to access the data."
   ]
  },
  {
   "cell_type": "code",
   "execution_count": 10,
   "metadata": {},
   "outputs": [
    {
     "data": {
      "text/plain": [
       "<open ewave.wavfile 'b'stimuli/A0.wav'', mode 'r', dtype 'int16', sampling rate 20000 at 0x10d4b8908>"
      ]
     },
     "execution_count": 10,
     "metadata": {},
     "output_type": "execute_result"
    }
   ],
   "source": [
    "import ewave\n",
    "wavfile = ewave.open(\"stimuli/A0.wav\")\n",
    "wavfile"
   ]
  },
  {
   "cell_type": "markdown",
   "metadata": {},
   "source": [
    "An important quantity to note is the **sampling rate**, which indicates how frequently the sound pressure wave was measured during the recording. "
   ]
  }
 ],
 "metadata": {
  "kernelspec": {
   "display_name": "comp-neurosci",
   "language": "python",
   "name": "comp-neurosci"
  },
  "language_info": {
   "codemirror_mode": {
    "name": "ipython",
    "version": 3
   },
   "file_extension": ".py",
   "mimetype": "text/x-python",
   "name": "python",
   "nbconvert_exporter": "python",
   "pygments_lexer": "ipython3",
   "version": "3.6.5"
  }
 },
 "nbformat": 4,
 "nbformat_minor": 2
}
